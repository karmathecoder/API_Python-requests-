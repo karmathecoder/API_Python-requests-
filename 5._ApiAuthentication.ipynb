{
 "cells": [
  {
   "cell_type": "code",
   "execution_count": 1,
   "id": "c2e3c395",
   "metadata": {},
   "outputs": [],
   "source": [
    "import requests\n",
    "from requests.auth import HTTPBasicAuth"
   ]
  },
  {
   "cell_type": "code",
   "execution_count": 2,
   "id": "024abb83",
   "metadata": {},
   "outputs": [
    {
     "data": {
      "text/plain": [
       "<Response [401]>"
      ]
     },
     "execution_count": 2,
     "metadata": {},
     "output_type": "execute_result"
    }
   ],
   "source": [
    "requests.get(\"https://api.github.com/user\")"
   ]
  },
  {
   "cell_type": "raw",
   "id": "5578a885",
   "metadata": {},
   "source": [
    "{\n",
    "  \"message\": \"Requires authentication\",\n",
    "  \"documentation_url\": \"https://docs.github.com/rest/reference/users#get-the-authenticated-user\"\n",
    "}"
   ]
  },
  {
   "cell_type": "markdown",
   "id": "d79e9ca8",
   "metadata": {},
   "source": [
    "# Authenticating"
   ]
  },
  {
   "cell_type": "code",
   "execution_count": 3,
   "id": "440fe2ff",
   "metadata": {},
   "outputs": [],
   "source": [
    "email = 'mirroraccone@gmail.com'\n",
    "passwd = 'Root@kali.123'"
   ]
  },
  {
   "cell_type": "code",
   "execution_count": 4,
   "id": "3dd307a2",
   "metadata": {},
   "outputs": [],
   "source": [
    "auth_ = HTTPBasicAuth(email,passwd)"
   ]
  },
  {
   "cell_type": "code",
   "execution_count": 5,
   "id": "b89c724d",
   "metadata": {},
   "outputs": [
    {
     "data": {
      "text/plain": [
       "<Response [401]>"
      ]
     },
     "execution_count": 5,
     "metadata": {},
     "output_type": "execute_result"
    }
   ],
   "source": [
    "requests.get('https://api.github.com/user', auth = HTTPBasicAuth('mirroraccone@gmail.com', 'Root@kali.123'))"
   ]
  },
  {
   "cell_type": "code",
   "execution_count": 6,
   "id": "7ff735c6",
   "metadata": {},
   "outputs": [
    {
     "data": {
      "text/plain": [
       "<Response [401]>"
      ]
     },
     "execution_count": 6,
     "metadata": {},
     "output_type": "execute_result"
    }
   ],
   "source": [
    "requests.get('https://api.github.com/user', auth = ('mirroraccone@gmail.com', 'Root@kali.123'))"
   ]
  },
  {
   "cell_type": "code",
   "execution_count": 7,
   "id": "5211ec2d",
   "metadata": {},
   "outputs": [
    {
     "data": {
      "text/plain": [
       "<Response [200]>"
      ]
     },
     "execution_count": 7,
     "metadata": {},
     "output_type": "execute_result"
    }
   ],
   "source": [
    "basic = HTTPBasicAuth('user', 'pass')\n",
    "requests.get('https://httpbin.org/basic-auth/user/pass', auth=basic)"
   ]
  },
  {
   "cell_type": "code",
   "execution_count": null,
   "id": "7b690256",
   "metadata": {},
   "outputs": [],
   "source": []
  }
 ],
 "metadata": {
  "kernelspec": {
   "display_name": "Python 3 (ipykernel)",
   "language": "python",
   "name": "python3"
  },
  "language_info": {
   "codemirror_mode": {
    "name": "ipython",
    "version": 3
   },
   "file_extension": ".py",
   "mimetype": "text/x-python",
   "name": "python",
   "nbconvert_exporter": "python",
   "pygments_lexer": "ipython3",
   "version": "3.10.5"
  }
 },
 "nbformat": 4,
 "nbformat_minor": 5
}
