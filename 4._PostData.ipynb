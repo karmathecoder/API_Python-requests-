{
 "cells": [
  {
   "cell_type": "code",
   "execution_count": 1,
   "id": "c2b32795",
   "metadata": {},
   "outputs": [],
   "source": [
    "import requests"
   ]
  },
  {
   "cell_type": "code",
   "execution_count": 2,
   "id": "c1382593",
   "metadata": {},
   "outputs": [],
   "source": [
    "response = requests.post(\"https://httpbin.org/post\")"
   ]
  },
  {
   "cell_type": "code",
   "execution_count": 4,
   "id": "6e437a81",
   "metadata": {},
   "outputs": [
    {
     "data": {
      "text/plain": [
       "<Response [200]>"
      ]
     },
     "execution_count": 4,
     "metadata": {},
     "output_type": "execute_result"
    }
   ],
   "source": [
    "response"
   ]
  },
  {
   "cell_type": "code",
   "execution_count": 6,
   "id": "59e071e2",
   "metadata": {},
   "outputs": [
    {
     "name": "stdout",
     "output_type": "stream",
     "text": [
      "{\n",
      "  \"args\": {}, \n",
      "  \"data\": \"\", \n",
      "  \"files\": {}, \n",
      "  \"form\": {}, \n",
      "  \"headers\": {\n",
      "    \"Accept\": \"*/*\", \n",
      "    \"Accept-Encoding\": \"gzip, deflate\", \n",
      "    \"Content-Length\": \"0\", \n",
      "    \"Host\": \"httpbin.org\", \n",
      "    \"User-Agent\": \"python-requests/2.28.1\", \n",
      "    \"X-Amzn-Trace-Id\": \"Root=1-62d65e38-4576dbed69f3edb629779a58\"\n",
      "  }, \n",
      "  \"json\": null, \n",
      "  \"origin\": \"103.59.73.245\", \n",
      "  \"url\": \"https://httpbin.org/post\"\n",
      "}\n",
      "\n"
     ]
    }
   ],
   "source": [
    "print(response.text)"
   ]
  },
  {
   "cell_type": "markdown",
   "id": "3b2d67da",
   "metadata": {},
   "source": [
    "## Method 1"
   ]
  },
  {
   "cell_type": "code",
   "execution_count": 14,
   "id": "4704fb0d",
   "metadata": {},
   "outputs": [],
   "source": [
    "response_new = requests.post(\"https://httpbin.org/post\",data = {'key1' : ['val1','val3'],\n",
    "                                                                'key2' : 'val2'})"
   ]
  },
  {
   "cell_type": "code",
   "execution_count": 9,
   "id": "d6745d2b",
   "metadata": {},
   "outputs": [
    {
     "data": {
      "text/plain": [
       "<Response [200]>"
      ]
     },
     "execution_count": 9,
     "metadata": {},
     "output_type": "execute_result"
    }
   ],
   "source": [
    "response_new"
   ]
  },
  {
   "cell_type": "code",
   "execution_count": 10,
   "id": "c15e4d20",
   "metadata": {},
   "outputs": [
    {
     "name": "stdout",
     "output_type": "stream",
     "text": [
      "{\n",
      "  \"args\": {}, \n",
      "  \"data\": \"\", \n",
      "  \"files\": {}, \n",
      "  \"form\": {\n",
      "    \"key1\": [\n",
      "      \"val1\", \n",
      "      \"val3\"\n",
      "    ], \n",
      "    \"key2\": \"val2\"\n",
      "  }, \n",
      "  \"headers\": {\n",
      "    \"Accept\": \"*/*\", \n",
      "    \"Accept-Encoding\": \"gzip, deflate\", \n",
      "    \"Content-Length\": \"29\", \n",
      "    \"Content-Type\": \"application/x-www-form-urlencoded\", \n",
      "    \"Host\": \"httpbin.org\", \n",
      "    \"User-Agent\": \"python-requests/2.28.1\", \n",
      "    \"X-Amzn-Trace-Id\": \"Root=1-62d66017-7956850011341b17130749d6\"\n",
      "  }, \n",
      "  \"json\": null, \n",
      "  \"origin\": \"103.59.73.245\", \n",
      "  \"url\": \"https://httpbin.org/post\"\n",
      "}\n",
      "\n"
     ]
    }
   ],
   "source": [
    "print(response_new.text)"
   ]
  },
  {
   "cell_type": "markdown",
   "id": "250d84a2",
   "metadata": {},
   "source": [
    "## Method 2 for same Method 1 "
   ]
  },
  {
   "cell_type": "code",
   "execution_count": 11,
   "id": "42e6bdd5",
   "metadata": {},
   "outputs": [],
   "source": [
    "response_new_2 = requests.post(\"https://httpbin.org/post\",data = [('key1','val1'),('key1','val2'),('key2','val3')])"
   ]
  },
  {
   "cell_type": "code",
   "execution_count": 13,
   "id": "4ac97ff8",
   "metadata": {},
   "outputs": [
    {
     "name": "stdout",
     "output_type": "stream",
     "text": [
      "{\n",
      "  \"args\": {}, \n",
      "  \"data\": \"\", \n",
      "  \"files\": {}, \n",
      "  \"form\": {\n",
      "    \"key1\": [\n",
      "      \"val1\", \n",
      "      \"val2\"\n",
      "    ], \n",
      "    \"key2\": \"val3\"\n",
      "  }, \n",
      "  \"headers\": {\n",
      "    \"Accept\": \"*/*\", \n",
      "    \"Accept-Encoding\": \"gzip, deflate\", \n",
      "    \"Content-Length\": \"29\", \n",
      "    \"Content-Type\": \"application/x-www-form-urlencoded\", \n",
      "    \"Host\": \"httpbin.org\", \n",
      "    \"User-Agent\": \"python-requests/2.28.1\", \n",
      "    \"X-Amzn-Trace-Id\": \"Root=1-62d66521-4f9dabb00482efdf2bd75bab\"\n",
      "  }, \n",
      "  \"json\": null, \n",
      "  \"origin\": \"103.59.73.245\", \n",
      "  \"url\": \"https://httpbin.org/post\"\n",
      "}\n",
      "\n"
     ]
    }
   ],
   "source": [
    "print(response_new_2.text)"
   ]
  },
  {
   "cell_type": "code",
   "execution_count": null,
   "id": "f21a4497",
   "metadata": {},
   "outputs": [],
   "source": []
  }
 ],
 "metadata": {
  "kernelspec": {
   "display_name": "Python 3 (ipykernel)",
   "language": "python",
   "name": "python3"
  },
  "language_info": {
   "codemirror_mode": {
    "name": "ipython",
    "version": 3
   },
   "file_extension": ".py",
   "mimetype": "text/x-python",
   "name": "python",
   "nbconvert_exporter": "python",
   "pygments_lexer": "ipython3",
   "version": "3.10.5"
  }
 },
 "nbformat": 4,
 "nbformat_minor": 5
}
