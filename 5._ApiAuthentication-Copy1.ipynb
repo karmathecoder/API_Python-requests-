{
 "cells": [
  {
   "cell_type": "code",
   "execution_count": 1,
   "id": "c2e3c395",
   "metadata": {},
   "outputs": [],
   "source": [
    "import requests\n",
    "from requests.auth import HTTPBasicAuth"
   ]
  },
  {
   "cell_type": "markdown",
   "id": "d79e9ca8",
   "metadata": {},
   "source": [
    "# Authenticating"
   ]
  },
  {
   "cell_type": "code",
   "execution_count": 2,
   "id": "440fe2ff",
   "metadata": {},
   "outputs": [],
   "source": [
    "email = 'mirroraccone@gmail.com'\n",
    "user = 'mirroraccone'\n",
    "passwd = 'Root@kali.123'"
   ]
  },
  {
   "cell_type": "code",
   "execution_count": 12,
   "id": "b89c724d",
   "metadata": {},
   "outputs": [],
   "source": [
    "a = requests.get('https://api.github.com/user', auth=('mirroraccone@gmail.com','Root@kali.123'))"
   ]
  },
  {
   "cell_type": "code",
   "execution_count": 13,
   "id": "e8482220",
   "metadata": {},
   "outputs": [
    {
     "data": {
      "text/plain": [
       "<Response [401]>"
      ]
     },
     "execution_count": 13,
     "metadata": {},
     "output_type": "execute_result"
    }
   ],
   "source": [
    "a"
   ]
  },
  {
   "cell_type": "code",
   "execution_count": null,
   "id": "fd29833a",
   "metadata": {},
   "outputs": [],
   "source": []
  }
 ],
 "metadata": {
  "kernelspec": {
   "display_name": "Python 3 (ipykernel)",
   "language": "python",
   "name": "python3"
  },
  "language_info": {
   "codemirror_mode": {
    "name": "ipython",
    "version": 3
   },
   "file_extension": ".py",
   "mimetype": "text/x-python",
   "name": "python",
   "nbconvert_exporter": "python",
   "pygments_lexer": "ipython3",
   "version": "3.10.5"
  }
 },
 "nbformat": 4,
 "nbformat_minor": 5
}
