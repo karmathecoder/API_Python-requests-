{
 "cells": [
  {
   "cell_type": "code",
   "execution_count": 1,
   "id": "da2e64f6",
   "metadata": {},
   "outputs": [],
   "source": [
    "import requests"
   ]
  },
  {
   "cell_type": "markdown",
   "id": "5c3692cf",
   "metadata": {},
   "source": [
    "### Creating Response Object"
   ]
  },
  {
   "cell_type": "code",
   "execution_count": 2,
   "id": "7a0f7128",
   "metadata": {},
   "outputs": [],
   "source": [
    "response = requests.get('https://www.codingninjas.in/api/v3/courses')"
   ]
  },
  {
   "cell_type": "markdown",
   "id": "dc980b75",
   "metadata": {},
   "source": [
    "### checking status code"
   ]
  },
  {
   "cell_type": "code",
   "execution_count": 3,
   "id": "4bacd035",
   "metadata": {},
   "outputs": [
    {
     "data": {
      "text/plain": [
       "200"
      ]
     },
     "execution_count": 3,
     "metadata": {},
     "output_type": "execute_result"
    }
   ],
   "source": [
    "response.status_code"
   ]
  },
  {
   "cell_type": "markdown",
   "id": "6701e13e",
   "metadata": {},
   "source": [
    "### Checking encoding of the data fetched"
   ]
  },
  {
   "cell_type": "code",
   "execution_count": 4,
   "id": "2cc3d33b",
   "metadata": {},
   "outputs": [
    {
     "data": {
      "text/plain": [
       "'utf-8'"
      ]
     },
     "execution_count": 4,
     "metadata": {},
     "output_type": "execute_result"
    }
   ],
   "source": [
    "response.encoding"
   ]
  },
  {
   "cell_type": "markdown",
   "id": "8df4d10c",
   "metadata": {},
   "source": [
    "### Acessing the fethched response"
   ]
  },
  {
   "cell_type": "code",
   "execution_count": 5,
   "id": "740494a3",
   "metadata": {},
   "outputs": [
    {
     "data": {
      "text/plain": [
       "'{\"data\":{\"courses\":[{\"id\":6,\"title\":\"Machine Learning\",\"online_title\":\"online-machine-learning-course\",\"offline_title\":\"classroom-machine-learning-course\",\"name\":\"Machine Learning \\\\u0026 Deep Learning Course\",\"level\":\"Advanced Courses\",\"brief_intro\":\"Machine learning engineers build, implement, and maintain machine learning systems in technology products.\",\"preview_image_url\":\"https://ninjasfiles.s3.amazonaws.com/0000000000001181.png\",\"available_online\":true,\"available_offline\":false,\"is_career_track\":false,\"course_group_id\":2,\"classroom_icon_url\":\"https://files.codingninjas.in/0000000000003766.png\"},{\"id\":40,\"title\":\"Data structures and Algorithms [C++/Java/Python]\",\"online_title\":\"premium-foundation-course\",\"offline_title\":\"\",\"name\":\"Premium Data structures and Algorithms [C++/Java/Python]\",\"level\":\"Foundation Courses\",\"brief_intro\":\"\",\"preview_image_url\":\"\",\"available_online\":true,\"available_offline\":false,\"is_career_track\":false,\"course_group_id\":7,\"classroom_icon_url\":\"https://files.codingninjas.in/0000000000003765.png\"},{\"id\":45,\"title\":\"Premium Android Course\",\"online_title\":\"premium-android-app-development-course\",\"offline_title\":\"\",\"name\":\"Premium Android App Development\",\"level\":\"Foundation Courses\",\"brief_intro\":\"\",\"preview_image_url\":\"\",\"available_online\":true,\"available_offline\":false,\"is_career_track\":false,\"course_group_id\":7,\"classroom_icon_url\":\"https://files.codingninjas.in/0000000000003765.png\"},{\"id\":16,\"title\":\"Competitive Programmer\",\"online_title\":\"online-competitive-programming-track\",\"offline_title\":\"\",\"name\":\"Ninja Competitive Programmer Track\",\"level\":\"Career Tracks\",\"brief_intro\":\"Competitive Track\",\"preview_image_url\":\"https://files.codingninjas.in/0000000000001177.png\",\"available_online\":true,\"available_offline\":false,\"is_career_track\":true,\"course_group_id\":3,\"classroom_icon_url\":\"https://files.codingninjas.com/competitive-programming-11703.svg\"},{\"id\":44,\"title\":\"Premium Machine Learning Course\",\"online_title\":\"premium-machine-learning-course\",\"offline_title\":\"\",\"name\":\"Premium Machine Learning Course\",\"level\":\"Foundation Courses\",\"brief_intro\":\"\",\"preview_image_url\":\"\",\"available_online\":true,\"available_offline\":false,\"is_career_track\":false,\"course_group_id\":7,\"classroom_icon_url\":\"https://files.codingninjas.in/0000000000003765.png\"},{\"id\":43,\"title\":\"Premium Data Science Course\",\"online_title\":\"premium-data-science-course\",\"offline_title\":\"\",\"name\":\"Premium Data Science Course\",\"level\":\"Foundation Courses\",\"brief_intro\":\"\",\"preview_image_url\":\"\",\"available_online\":true,\"available_offline\":false,\"is_career_track\":false,\"course_group_id\":7,\"classroom_icon_url\":\"https://files.codingninjas.com/data-science-11645.png\"},{\"id\":1,\"title\":\"C++ \\\\u0026 Data Structures\",\"online_title\":\"onlline-c-plus-plus-course\",\"offline_title\":\"classroom-c-plus-plus-course\",\"name\":\"C++ Foundation with Data Structures\",\"level\":\"Foundation Courses\",\"brief_intro\":\"Brief Intro\",\"preview_image_url\":\"https://files.codingninjas.in/0000000000001176.png\",\"available_online\":true,\"available_offline\":false,\"is_career_track\":false,\"course_group_id\":1,\"classroom_icon_url\":\"https://files.codingninjas.in/0000000000003771.png\"},{\"id\":41,\"title\":\"Premium Competitive Course\",\"online_title\":\"premium-competitive-course\",\"offline_title\":\"\",\"name\":\"Premium Competitive Programming Course\",\"level\":\"Foundation Courses\",\"brief_intro\":\"\",\"preview_image_url\":\"\",\"available_online\":true,\"available_offline\":false,\"is_career_track\":false,\"course_group_id\":7,\"classroom_icon_url\":\"https://files.codingninjas.in/0000000000003765.png\"},{\"id\":42,\"title\":\"Premium Web Dev Course\",\"online_title\":\"premium-full-stack-web-development-course\",\"offline_title\":\"\",\"name\":\"Premium Full Stack Web Development\",\"level\":\"Foundation Courses\",\"brief_intro\":\"\",\"preview_image_url\":\"\",\"available_online\":true,\"available_offline\":false,\"is_career_track\":false,\"course_group_id\":7,\"classroom_icon_url\":\"https://files.codingninjas.in/0000000000003765.png\"},{\"id\":73,\"title\":\"System Design Course\",\"online_title\":\"system-design-course\",\"offline_title\":\"\",\"name\":\"System Design Course\",\"level\":\"Foundation Courses\",\"brief_intro\":\"Brief Intro\",\"preview_image_url\":\"https://ninjasfiles.s3.amazonaws.com/0000000000001178.png\",\"available_online\":true,\"available_offline\":false,\"is_career_track\":false,\"course_group_id\":1,\"classroom_icon_url\":\"https://files.codingninjas.com/system-design-icon-11401.svg\"},{\"id\":34,\"title\":\"Front End (React)\",\"online_title\":\"online-web-dev-with-react\",\"offline_title\":\"\",\"name\":\"Advanced  Front-End Web Development with React\",\"level\":\"Development Courses\",\"brief_intro\":\"Advanced  Front-End Web Development with React\",\"preview_image_url\":\"https://ninjasfiles.s3.amazonaws.com/0000000000001179.png\",\"available_online\":true,\"available_offline\":false,\"is_career_track\":false,\"course_group_id\":2,\"classroom_icon_url\":\"https://files.codingninjas.in/0000000000003769.png\"},{\"id\":2,\"title\":\"Java \\\\u0026 Data Structures\",\"online_title\":\"online-java-course\",\"offline_title\":\"classroom-java-course\",\"name\":\"JAVA Foundation with Data Structures\",\"level\":\"Foundation Courses\",\"brief_intro\":\"Brief Intro\",\"preview_image_url\":\"https://ninjasfiles.s3.amazonaws.com/0000000000001255.png\",\"available_online\":true,\"available_offline\":false,\"is_career_track\":false,\"course_group_id\":1,\"classroom_icon_url\":\"https://files.codingninjas.in/0000000000003772.png\"},{\"id\":12,\"title\":\"Web Dev (Full Stack)\",\"online_title\":\"online-full-stack-node-js-web-dev-course\",\"offline_title\":\"\",\"name\":\"Full Stack Web Development\",\"level\":\"Development Courses\",\"brief_intro\":\"Web Development\",\"preview_image_url\":\"https://ninjasfiles.s3.amazonaws.com/0000000000001179.png\",\"available_online\":true,\"available_offline\":false,\"is_career_track\":false,\"course_group_id\":2,\"classroom_icon_url\":\"https://files.codingninjas.in/0000000000003764.png\"},{\"id\":35,\"title\":\"Android Developer\",\"online_title\":\"online-android-development-career-track\",\"offline_title\":\"\",\"name\":\"Ninja Android Developer Career Track \",\"level\":\"Career Tracks\",\"brief_intro\":\"beginner to pro Android Developer!\",\"preview_image_url\":\"https://ninjasfiles.s3.amazonaws.com/0000000000001175.png\",\"available_online\":true,\"available_offline\":false,\"is_career_track\":true,\"course_group_id\":3,\"classroom_icon_url\":\"https://files.codingninjas.in/0000000000003774.png\"},{\"id\":13,\"title\":\"Data Science\",\"online_title\":\"online-data-science-course\",\"offline_title\":\"\",\"name\":\"Data Science \\\\u0026 Machine Learning Complete\",\"level\":\"Advanced Courses\",\"brief_intro\":\"Brief Intro\",\"preview_image_url\":\"https://ninjasfiles.s3.amazonaws.com/0000000000001371.png\",\"available_online\":true,\"available_offline\":false,\"is_career_track\":false,\"course_group_id\":2,\"classroom_icon_url\":\"https://files.codingninjas.in/0000000000003763.png\"},{\"id\":4,\"title\":\"Interview Preparation\",\"online_title\":\"online-interview-preparation\",\"offline_title\":\"classroom-interview-preparation\",\"name\":\"Interview Preparation Course\",\"level\":\"Advanced Courses\",\"brief_intro\":\"Brief Intro\",\"preview_image_url\":\"https://ninjasfiles.s3.amazonaws.com/0000000000001178.png\",\"available_online\":true,\"available_offline\":false,\"is_career_track\":false,\"course_group_id\":1,\"classroom_icon_url\":\"https://files.codingninjas.in/0000000000003765.png\"},{\"id\":66,\"title\":\"Grokking the Operating Systems Interview\",\"online_title\":\"operating-system\",\"offline_title\":\"\",\"name\":\"Grokking the Operating Systems Interview\",\"level\":\"Foundation Courses\",\"brief_intro\":\"Brief Intro\",\"preview_image_url\":\"https://ninjasfiles.s3.amazonaws.com/0000000000001178.png\",\"available_online\":true,\"available_offline\":false,\"is_career_track\":false,\"course_group_id\":1,\"classroom_icon_url\":\"https://files.codingninjas.in/ubuntu-brands-10404.png\"},{\"id\":36,\"title\":\"Python \\\\u0026 Web Dev (MERN)\",\"online_title\":\"ninja-web-developer-career-track-mern-stack\",\"offline_title\":\"\",\"name\":\"Ninja  Web Developer Career Track - NodeJS \\\\u0026 ReactJs\",\"level\":\"Career Tracks\",\"brief_intro\":\"Programming foundation + MERN Stack Web Development complete Career Track\",\"preview_image_url\":\"https://ninjasfiles.s3.amazonaws.com/0000000000001179.png\",\"available_online\":true,\"available_offline\":false,\"is_career_track\":true,\"course_group_id\":3,\"classroom_icon_url\":\"https://files.codingninjas.in/0000000000003777.png\"},{\"id\":10,\"title\":\"Competitive Programming\",\"online_title\":\"online-competitive-programming-course\",\"offline_title\":\"\",\"name\":\"Competitive Programming Course\",\"level\":\"Advanced Courses\",\"brief_intro\":\"Eminence\",\"preview_image_url\":\"https://ninjasfiles.s3.amazonaws.com/0000000000001177.png\",\"available_online\":true,\"available_offline\":false,\"is_career_track\":false,\"course_group_id\":1,\"classroom_icon_url\":\"https://files.codingninjas.in/0000000000003762.png\"},{\"id\":17,\"title\":\"C++ \\\\u0026 Web Dev (Node.js)\",\"online_title\":\"web-developer-career-track\",\"offline_title\":\"\",\"name\":\"Ninja  Web Developer Career Track - NodeJS\",\"level\":\"Career Tracks\",\"brief_intro\":\"Programming foundation + Full Stack Web Development Career Track\",\"preview_image_url\":\"https://ninjasfiles.s3.amazonaws.com/0000000000001179.png\",\"available_online\":true,\"available_offline\":false,\"is_career_track\":true,\"course_group_id\":3,\"classroom_icon_url\":\"https://files.codingninjas.in/0000000000003777.png\"},{\"id\":11,\"title\":\"Python \\\\u0026 Data Structures\",\"online_title\":\"online-python-course\",\"offline_title\":\"offline-python-course\",\"name\":\"Python Foundation with Data Structures\",\"level\":\"Foundation Courses\",\"brief_intro\":\"Python Foundation\",\"preview_image_url\":\"https://ninjasfiles.s3.amazonaws.com/0000000000001282.png\",\"available_online\":true,\"available_offline\":false,\"is_career_track\":false,\"course_group_id\":1,\"classroom_icon_url\":\"https://files.codingninjas.in/0000000000003773.png\"},{\"id\":18,\"title\":\"Data Scientist\",\"online_title\":\"data-Scientist-career-track\",\"offline_title\":\"\",\"name\":\"Ninja Data Scientist Career Track\",\"level\":\"Career Tracks\",\"brief_intro\":\"Programming foundation + Data Science with ML career track\",\"preview_image_url\":\"https://ninjasfiles.s3.amazonaws.com/0000000000001371.png\",\"available_online\":true,\"available_offline\":false,\"is_career_track\":true,\"course_group_id\":3,\"classroom_icon_url\":\"https://files.codingninjas.in/0000000000003778.png\"},{\"id\":33,\"title\":\"Android (Kotlin)\",\"online_title\":\"online-android-Development-kotlin\",\"offline_title\":\"\",\"name\":\"Android Development with Kotlin\",\"level\":\"Development Courses\",\"brief_intro\":\"Android Development Kotlin\",\"preview_image_url\":\"https://ninjasfiles.s3.amazonaws.com/0000000000001175.png\",\"available_online\":true,\"available_offline\":false,\"is_career_track\":false,\"course_group_id\":2,\"classroom_icon_url\":\"https://files.codingninjas.in/0000000000003761.png\"},{\"id\":21,\"title\":\"Aptitude Preparation\",\"online_title\":\"online-aptitude-preparation\",\"offline_title\":\"\",\"name\":\"Aptitude Preparation Course\",\"level\":\"Foundation Courses\",\"brief_intro\":\"Brief Intro\",\"preview_image_url\":\"https://ninjasfiles.s3.amazonaws.com/0000000000001178.png\",\"available_online\":true,\"available_offline\":false,\"is_career_track\":false,\"course_group_id\":1,\"classroom_icon_url\":\"https://files.codingninjas.in/0000000000003770.png\"},{\"id\":19,\"title\":\"Machine Learning\",\"online_title\":\"machine-learning-engineer-career-track\",\"offline_title\":\"\",\"name\":\"Ninja Machine Learning Engineer Career Track\",\"level\":\"Career Tracks\",\"brief_intro\":\"Programming foundation + Machine Learning career track\",\"preview_image_url\":\"https://ninjasfiles.s3.amazonaws.com/0000000000001181.png\",\"available_online\":true,\"available_offline\":false,\"is_career_track\":true,\"course_group_id\":3,\"classroom_icon_url\":\"https://files.codingninjas.in/0000000000003776.png\"}],\"course_groups\":[{\"id\":1,\"name\":\"Foundation, Algorithmic \\\\u0026 Advanced\",\"order\":1,\"course_ids\":[1,73,2,4,66,10,11,21],\"json_data\":{\"color\":\"#FFEBC2\",\"image_link\":\"https://ninjasfiles.s3.amazonaws.com/0000000000003821.png\",\"text_color\":\"#AC933C\",\"short_description\":\"Foundation courses are designed such that\\xa0\\\\u003cstrong\\\\u003eno prerequisites are required.\\\\u003c/strong\\\\u003e\\xa0Data Structures(DS) and Algorithms(algo.) parts build on the basics to give you a\\xa0\\\\u003cstrong\\\\u003esolid programming foundation\\\\u003c/strong\\\\u003e.\\xa0Competitive is where you start to\\xa0\\\\u003cstrong\\\\u003epush the boundaries!\\\\u003c/strong\\\\u003e\",\"mobile_short_description\":\"Foundation courses are designed such that\\xa0\\\\u003cspan\\\\u003eno prerequisites are required.\\\\u003c/span\\\\u003e\"},\"is_independent\":false},{\"id\":2,\"name\":\"Data \\\\u0026 Development\",\"order\":2,\"course_ids\":[6,34,12,13,33],\"json_data\":{\"color\":\"#80D4B1\",\"image_link\":\"https://files.codingninjas.in/0000000000003846.svg\",\"text_color\":\"#257D68\",\"short_description\":\"Data courses dwell in the state of the art algorithms and require good knowledge of programming fundamentals. Web development courses use modern JavaScript to build powerful and fast applications from the ground up.\\xa0\\\\u003cstrong\\\\u003eNo prior development experience needed\\\\u003c/strong\\\\u003e\",\"mobile_short_description\":\"Data courses dwell in the state of the art algorithms and require good knowledge of programming fundamentals. Web development courses use modern JavaScript to build powerful and fast applications from the ground up.\\xa0\\\\u003cspan\\\\u003eNo prior development experience needed\\\\u003c/span\\\\u003e\"},\"is_independent\":false},{\"id\":3,\"name\":\"Career Track\",\"order\":3,\"course_ids\":[16,35,36,17,18,19],\"json_data\":{\"color\":\"#C898FF\",\"image_link\":\"https://files.codingninjas.in/0000000000003845.svg\",\"text_color\":\"#603CAC\",\"short_description\":\"These are courses that take you from\\xa0\\\\u003cstrong\\\\u003ezero to hero\\\\u003c/strong\\\\u003e. Each track is designed specifically to cater to a particular goal you can choose and\\xa0\\\\u003cstrong\\\\u003ecovers everything you need to learn and assumes no prior knowledge.\\\\u003c/strong\\\\u003e\",\"mobile_short_description\":\"Each track is designed specifically to cater to a particular goal you can choose and\\xa0\\\\u003cspan\\\\u003ecovers everything you need to learn and assumes no prior knowledge.\\\\u003c/span\\\\u003e\"},\"is_independent\":true},{\"id\":7,\"name\":\"Premium Course\",\"order\":null,\"course_ids\":[40,45,44,43,41,42],\"json_data\":null,\"is_independent\":true}]},\"message\":\"Courses\",\"status\":200,\"error\":null,\"disabled\":false,\"update\":false,\"external_rating\":null}'"
      ]
     },
     "execution_count": 5,
     "metadata": {},
     "output_type": "execute_result"
    }
   ],
   "source": [
    "response.text"
   ]
  },
  {
   "cell_type": "markdown",
   "id": "9656922b",
   "metadata": {},
   "source": [
    "### Checking the URL used"
   ]
  },
  {
   "cell_type": "code",
   "execution_count": 6,
   "id": "d05cfe60",
   "metadata": {},
   "outputs": [
    {
     "data": {
      "text/plain": [
       "'https://www.codingninjas.in/api/v3/courses'"
      ]
     },
     "execution_count": 6,
     "metadata": {},
     "output_type": "execute_result"
    }
   ],
   "source": [
    "response.url"
   ]
  },
  {
   "cell_type": "markdown",
   "id": "f7259483",
   "metadata": {},
   "source": [
    "### Exploring headers of fetched data"
   ]
  },
  {
   "cell_type": "code",
   "execution_count": 7,
   "id": "97ed5ae6",
   "metadata": {},
   "outputs": [
    {
     "data": {
      "text/plain": [
       "{'Date': 'Tue, 19 Jul 2022 03:53:34 GMT', 'Content-Type': 'application/json', 'Transfer-Encoding': 'chunked', 'Connection': 'keep-alive', 'Server': 'nginx', 'X-Frame-Options': 'SAMEORIGIN', 'X-XSS-Protection': '1; mode=block', 'X-Content-Type-Options': 'nosniff', 'Access-Control-Allow-Origin': '*', 'Access-Control-Allow-Methods': 'POST, GET, PATCH, PUT, DELETE, OPTIONS', 'Access-Control-Allow-Headers': 'Access-Control-Allow-Headers, Origin,Accept, X-Requested-With, Content-Type, Access-Control-Request-Method, Access-Control-Request-Headers, Authorization', 'Access-Control-Max-Age': '1728000', 'Vary': 'Accept-Encoding', 'Content-Encoding': 'gzip', 'ETag': 'W/\"5521169e205319ec9c4f1b31e47de0e7\"', 'Cache-Control': 'max-age=0, private, must-revalidate', 'X-Request-Id': '59db4137-0d41-4069-9a10-b566b227d199', 'X-Runtime': '0.013334', 'Strict-Transport-Security': 'max-age=31536000; includeSubDomains;'}"
      ]
     },
     "execution_count": 7,
     "metadata": {},
     "output_type": "execute_result"
    }
   ],
   "source": [
    "response.headers"
   ]
  },
  {
   "cell_type": "code",
   "execution_count": 8,
   "id": "915cf7bb",
   "metadata": {},
   "outputs": [
    {
     "data": {
      "text/plain": [
       "'Tue, 19 Jul 2022 03:53:34 GMT'"
      ]
     },
     "execution_count": 8,
     "metadata": {},
     "output_type": "execute_result"
    }
   ],
   "source": [
    "# we can see that it is in DICTONARY so we can acess it accordingly\n",
    "response.headers['date']"
   ]
  },
  {
   "cell_type": "markdown",
   "id": "6c9bcbd7",
   "metadata": {},
   "source": [
    "# <font color = \"red\"> 2._Converting JSON DataTypes to Python DataTypes"
   ]
  },
  {
   "cell_type": "code",
   "execution_count": 9,
   "id": "cd115274",
   "metadata": {},
   "outputs": [],
   "source": [
    "import json"
   ]
  },
  {
   "cell_type": "code",
   "execution_count": 10,
   "id": "591ab34e",
   "metadata": {},
   "outputs": [],
   "source": [
    "json_data = response.text\n",
    "\n",
    "jsonConverted = json.loads(json_data)"
   ]
  },
  {
   "cell_type": "code",
   "execution_count": 11,
   "id": "ee1e9463",
   "metadata": {},
   "outputs": [
    {
     "data": {
      "text/plain": [
       "{'data': {'courses': [{'id': 6,\n",
       "    'title': 'Machine Learning',\n",
       "    'online_title': 'online-machine-learning-course',\n",
       "    'offline_title': 'classroom-machine-learning-course',\n",
       "    'name': 'Machine Learning & Deep Learning Course',\n",
       "    'level': 'Advanced Courses',\n",
       "    'brief_intro': 'Machine learning engineers build, implement, and maintain machine learning systems in technology products.',\n",
       "    'preview_image_url': 'https://ninjasfiles.s3.amazonaws.com/0000000000001181.png',\n",
       "    'available_online': True,\n",
       "    'available_offline': False,\n",
       "    'is_career_track': False,\n",
       "    'course_group_id': 2,\n",
       "    'classroom_icon_url': 'https://files.codingninjas.in/0000000000003766.png'},\n",
       "   {'id': 40,\n",
       "    'title': 'Data structures and Algorithms [C++/Java/Python]',\n",
       "    'online_title': 'premium-foundation-course',\n",
       "    'offline_title': '',\n",
       "    'name': 'Premium Data structures and Algorithms [C++/Java/Python]',\n",
       "    'level': 'Foundation Courses',\n",
       "    'brief_intro': '',\n",
       "    'preview_image_url': '',\n",
       "    'available_online': True,\n",
       "    'available_offline': False,\n",
       "    'is_career_track': False,\n",
       "    'course_group_id': 7,\n",
       "    'classroom_icon_url': 'https://files.codingninjas.in/0000000000003765.png'},\n",
       "   {'id': 45,\n",
       "    'title': 'Premium Android Course',\n",
       "    'online_title': 'premium-android-app-development-course',\n",
       "    'offline_title': '',\n",
       "    'name': 'Premium Android App Development',\n",
       "    'level': 'Foundation Courses',\n",
       "    'brief_intro': '',\n",
       "    'preview_image_url': '',\n",
       "    'available_online': True,\n",
       "    'available_offline': False,\n",
       "    'is_career_track': False,\n",
       "    'course_group_id': 7,\n",
       "    'classroom_icon_url': 'https://files.codingninjas.in/0000000000003765.png'},\n",
       "   {'id': 16,\n",
       "    'title': 'Competitive Programmer',\n",
       "    'online_title': 'online-competitive-programming-track',\n",
       "    'offline_title': '',\n",
       "    'name': 'Ninja Competitive Programmer Track',\n",
       "    'level': 'Career Tracks',\n",
       "    'brief_intro': 'Competitive Track',\n",
       "    'preview_image_url': 'https://files.codingninjas.in/0000000000001177.png',\n",
       "    'available_online': True,\n",
       "    'available_offline': False,\n",
       "    'is_career_track': True,\n",
       "    'course_group_id': 3,\n",
       "    'classroom_icon_url': 'https://files.codingninjas.com/competitive-programming-11703.svg'},\n",
       "   {'id': 44,\n",
       "    'title': 'Premium Machine Learning Course',\n",
       "    'online_title': 'premium-machine-learning-course',\n",
       "    'offline_title': '',\n",
       "    'name': 'Premium Machine Learning Course',\n",
       "    'level': 'Foundation Courses',\n",
       "    'brief_intro': '',\n",
       "    'preview_image_url': '',\n",
       "    'available_online': True,\n",
       "    'available_offline': False,\n",
       "    'is_career_track': False,\n",
       "    'course_group_id': 7,\n",
       "    'classroom_icon_url': 'https://files.codingninjas.in/0000000000003765.png'},\n",
       "   {'id': 43,\n",
       "    'title': 'Premium Data Science Course',\n",
       "    'online_title': 'premium-data-science-course',\n",
       "    'offline_title': '',\n",
       "    'name': 'Premium Data Science Course',\n",
       "    'level': 'Foundation Courses',\n",
       "    'brief_intro': '',\n",
       "    'preview_image_url': '',\n",
       "    'available_online': True,\n",
       "    'available_offline': False,\n",
       "    'is_career_track': False,\n",
       "    'course_group_id': 7,\n",
       "    'classroom_icon_url': 'https://files.codingninjas.com/data-science-11645.png'},\n",
       "   {'id': 1,\n",
       "    'title': 'C++ & Data Structures',\n",
       "    'online_title': 'onlline-c-plus-plus-course',\n",
       "    'offline_title': 'classroom-c-plus-plus-course',\n",
       "    'name': 'C++ Foundation with Data Structures',\n",
       "    'level': 'Foundation Courses',\n",
       "    'brief_intro': 'Brief Intro',\n",
       "    'preview_image_url': 'https://files.codingninjas.in/0000000000001176.png',\n",
       "    'available_online': True,\n",
       "    'available_offline': False,\n",
       "    'is_career_track': False,\n",
       "    'course_group_id': 1,\n",
       "    'classroom_icon_url': 'https://files.codingninjas.in/0000000000003771.png'},\n",
       "   {'id': 41,\n",
       "    'title': 'Premium Competitive Course',\n",
       "    'online_title': 'premium-competitive-course',\n",
       "    'offline_title': '',\n",
       "    'name': 'Premium Competitive Programming Course',\n",
       "    'level': 'Foundation Courses',\n",
       "    'brief_intro': '',\n",
       "    'preview_image_url': '',\n",
       "    'available_online': True,\n",
       "    'available_offline': False,\n",
       "    'is_career_track': False,\n",
       "    'course_group_id': 7,\n",
       "    'classroom_icon_url': 'https://files.codingninjas.in/0000000000003765.png'},\n",
       "   {'id': 42,\n",
       "    'title': 'Premium Web Dev Course',\n",
       "    'online_title': 'premium-full-stack-web-development-course',\n",
       "    'offline_title': '',\n",
       "    'name': 'Premium Full Stack Web Development',\n",
       "    'level': 'Foundation Courses',\n",
       "    'brief_intro': '',\n",
       "    'preview_image_url': '',\n",
       "    'available_online': True,\n",
       "    'available_offline': False,\n",
       "    'is_career_track': False,\n",
       "    'course_group_id': 7,\n",
       "    'classroom_icon_url': 'https://files.codingninjas.in/0000000000003765.png'},\n",
       "   {'id': 73,\n",
       "    'title': 'System Design Course',\n",
       "    'online_title': 'system-design-course',\n",
       "    'offline_title': '',\n",
       "    'name': 'System Design Course',\n",
       "    'level': 'Foundation Courses',\n",
       "    'brief_intro': 'Brief Intro',\n",
       "    'preview_image_url': 'https://ninjasfiles.s3.amazonaws.com/0000000000001178.png',\n",
       "    'available_online': True,\n",
       "    'available_offline': False,\n",
       "    'is_career_track': False,\n",
       "    'course_group_id': 1,\n",
       "    'classroom_icon_url': 'https://files.codingninjas.com/system-design-icon-11401.svg'},\n",
       "   {'id': 34,\n",
       "    'title': 'Front End (React)',\n",
       "    'online_title': 'online-web-dev-with-react',\n",
       "    'offline_title': '',\n",
       "    'name': 'Advanced  Front-End Web Development with React',\n",
       "    'level': 'Development Courses',\n",
       "    'brief_intro': 'Advanced  Front-End Web Development with React',\n",
       "    'preview_image_url': 'https://ninjasfiles.s3.amazonaws.com/0000000000001179.png',\n",
       "    'available_online': True,\n",
       "    'available_offline': False,\n",
       "    'is_career_track': False,\n",
       "    'course_group_id': 2,\n",
       "    'classroom_icon_url': 'https://files.codingninjas.in/0000000000003769.png'},\n",
       "   {'id': 2,\n",
       "    'title': 'Java & Data Structures',\n",
       "    'online_title': 'online-java-course',\n",
       "    'offline_title': 'classroom-java-course',\n",
       "    'name': 'JAVA Foundation with Data Structures',\n",
       "    'level': 'Foundation Courses',\n",
       "    'brief_intro': 'Brief Intro',\n",
       "    'preview_image_url': 'https://ninjasfiles.s3.amazonaws.com/0000000000001255.png',\n",
       "    'available_online': True,\n",
       "    'available_offline': False,\n",
       "    'is_career_track': False,\n",
       "    'course_group_id': 1,\n",
       "    'classroom_icon_url': 'https://files.codingninjas.in/0000000000003772.png'},\n",
       "   {'id': 12,\n",
       "    'title': 'Web Dev (Full Stack)',\n",
       "    'online_title': 'online-full-stack-node-js-web-dev-course',\n",
       "    'offline_title': '',\n",
       "    'name': 'Full Stack Web Development',\n",
       "    'level': 'Development Courses',\n",
       "    'brief_intro': 'Web Development',\n",
       "    'preview_image_url': 'https://ninjasfiles.s3.amazonaws.com/0000000000001179.png',\n",
       "    'available_online': True,\n",
       "    'available_offline': False,\n",
       "    'is_career_track': False,\n",
       "    'course_group_id': 2,\n",
       "    'classroom_icon_url': 'https://files.codingninjas.in/0000000000003764.png'},\n",
       "   {'id': 35,\n",
       "    'title': 'Android Developer',\n",
       "    'online_title': 'online-android-development-career-track',\n",
       "    'offline_title': '',\n",
       "    'name': 'Ninja Android Developer Career Track ',\n",
       "    'level': 'Career Tracks',\n",
       "    'brief_intro': 'beginner to pro Android Developer!',\n",
       "    'preview_image_url': 'https://ninjasfiles.s3.amazonaws.com/0000000000001175.png',\n",
       "    'available_online': True,\n",
       "    'available_offline': False,\n",
       "    'is_career_track': True,\n",
       "    'course_group_id': 3,\n",
       "    'classroom_icon_url': 'https://files.codingninjas.in/0000000000003774.png'},\n",
       "   {'id': 13,\n",
       "    'title': 'Data Science',\n",
       "    'online_title': 'online-data-science-course',\n",
       "    'offline_title': '',\n",
       "    'name': 'Data Science & Machine Learning Complete',\n",
       "    'level': 'Advanced Courses',\n",
       "    'brief_intro': 'Brief Intro',\n",
       "    'preview_image_url': 'https://ninjasfiles.s3.amazonaws.com/0000000000001371.png',\n",
       "    'available_online': True,\n",
       "    'available_offline': False,\n",
       "    'is_career_track': False,\n",
       "    'course_group_id': 2,\n",
       "    'classroom_icon_url': 'https://files.codingninjas.in/0000000000003763.png'},\n",
       "   {'id': 4,\n",
       "    'title': 'Interview Preparation',\n",
       "    'online_title': 'online-interview-preparation',\n",
       "    'offline_title': 'classroom-interview-preparation',\n",
       "    'name': 'Interview Preparation Course',\n",
       "    'level': 'Advanced Courses',\n",
       "    'brief_intro': 'Brief Intro',\n",
       "    'preview_image_url': 'https://ninjasfiles.s3.amazonaws.com/0000000000001178.png',\n",
       "    'available_online': True,\n",
       "    'available_offline': False,\n",
       "    'is_career_track': False,\n",
       "    'course_group_id': 1,\n",
       "    'classroom_icon_url': 'https://files.codingninjas.in/0000000000003765.png'},\n",
       "   {'id': 66,\n",
       "    'title': 'Grokking the Operating Systems Interview',\n",
       "    'online_title': 'operating-system',\n",
       "    'offline_title': '',\n",
       "    'name': 'Grokking the Operating Systems Interview',\n",
       "    'level': 'Foundation Courses',\n",
       "    'brief_intro': 'Brief Intro',\n",
       "    'preview_image_url': 'https://ninjasfiles.s3.amazonaws.com/0000000000001178.png',\n",
       "    'available_online': True,\n",
       "    'available_offline': False,\n",
       "    'is_career_track': False,\n",
       "    'course_group_id': 1,\n",
       "    'classroom_icon_url': 'https://files.codingninjas.in/ubuntu-brands-10404.png'},\n",
       "   {'id': 36,\n",
       "    'title': 'Python & Web Dev (MERN)',\n",
       "    'online_title': 'ninja-web-developer-career-track-mern-stack',\n",
       "    'offline_title': '',\n",
       "    'name': 'Ninja  Web Developer Career Track - NodeJS & ReactJs',\n",
       "    'level': 'Career Tracks',\n",
       "    'brief_intro': 'Programming foundation + MERN Stack Web Development complete Career Track',\n",
       "    'preview_image_url': 'https://ninjasfiles.s3.amazonaws.com/0000000000001179.png',\n",
       "    'available_online': True,\n",
       "    'available_offline': False,\n",
       "    'is_career_track': True,\n",
       "    'course_group_id': 3,\n",
       "    'classroom_icon_url': 'https://files.codingninjas.in/0000000000003777.png'},\n",
       "   {'id': 10,\n",
       "    'title': 'Competitive Programming',\n",
       "    'online_title': 'online-competitive-programming-course',\n",
       "    'offline_title': '',\n",
       "    'name': 'Competitive Programming Course',\n",
       "    'level': 'Advanced Courses',\n",
       "    'brief_intro': 'Eminence',\n",
       "    'preview_image_url': 'https://ninjasfiles.s3.amazonaws.com/0000000000001177.png',\n",
       "    'available_online': True,\n",
       "    'available_offline': False,\n",
       "    'is_career_track': False,\n",
       "    'course_group_id': 1,\n",
       "    'classroom_icon_url': 'https://files.codingninjas.in/0000000000003762.png'},\n",
       "   {'id': 17,\n",
       "    'title': 'C++ & Web Dev (Node.js)',\n",
       "    'online_title': 'web-developer-career-track',\n",
       "    'offline_title': '',\n",
       "    'name': 'Ninja  Web Developer Career Track - NodeJS',\n",
       "    'level': 'Career Tracks',\n",
       "    'brief_intro': 'Programming foundation + Full Stack Web Development Career Track',\n",
       "    'preview_image_url': 'https://ninjasfiles.s3.amazonaws.com/0000000000001179.png',\n",
       "    'available_online': True,\n",
       "    'available_offline': False,\n",
       "    'is_career_track': True,\n",
       "    'course_group_id': 3,\n",
       "    'classroom_icon_url': 'https://files.codingninjas.in/0000000000003777.png'},\n",
       "   {'id': 11,\n",
       "    'title': 'Python & Data Structures',\n",
       "    'online_title': 'online-python-course',\n",
       "    'offline_title': 'offline-python-course',\n",
       "    'name': 'Python Foundation with Data Structures',\n",
       "    'level': 'Foundation Courses',\n",
       "    'brief_intro': 'Python Foundation',\n",
       "    'preview_image_url': 'https://ninjasfiles.s3.amazonaws.com/0000000000001282.png',\n",
       "    'available_online': True,\n",
       "    'available_offline': False,\n",
       "    'is_career_track': False,\n",
       "    'course_group_id': 1,\n",
       "    'classroom_icon_url': 'https://files.codingninjas.in/0000000000003773.png'},\n",
       "   {'id': 18,\n",
       "    'title': 'Data Scientist',\n",
       "    'online_title': 'data-Scientist-career-track',\n",
       "    'offline_title': '',\n",
       "    'name': 'Ninja Data Scientist Career Track',\n",
       "    'level': 'Career Tracks',\n",
       "    'brief_intro': 'Programming foundation + Data Science with ML career track',\n",
       "    'preview_image_url': 'https://ninjasfiles.s3.amazonaws.com/0000000000001371.png',\n",
       "    'available_online': True,\n",
       "    'available_offline': False,\n",
       "    'is_career_track': True,\n",
       "    'course_group_id': 3,\n",
       "    'classroom_icon_url': 'https://files.codingninjas.in/0000000000003778.png'},\n",
       "   {'id': 33,\n",
       "    'title': 'Android (Kotlin)',\n",
       "    'online_title': 'online-android-Development-kotlin',\n",
       "    'offline_title': '',\n",
       "    'name': 'Android Development with Kotlin',\n",
       "    'level': 'Development Courses',\n",
       "    'brief_intro': 'Android Development Kotlin',\n",
       "    'preview_image_url': 'https://ninjasfiles.s3.amazonaws.com/0000000000001175.png',\n",
       "    'available_online': True,\n",
       "    'available_offline': False,\n",
       "    'is_career_track': False,\n",
       "    'course_group_id': 2,\n",
       "    'classroom_icon_url': 'https://files.codingninjas.in/0000000000003761.png'},\n",
       "   {'id': 21,\n",
       "    'title': 'Aptitude Preparation',\n",
       "    'online_title': 'online-aptitude-preparation',\n",
       "    'offline_title': '',\n",
       "    'name': 'Aptitude Preparation Course',\n",
       "    'level': 'Foundation Courses',\n",
       "    'brief_intro': 'Brief Intro',\n",
       "    'preview_image_url': 'https://ninjasfiles.s3.amazonaws.com/0000000000001178.png',\n",
       "    'available_online': True,\n",
       "    'available_offline': False,\n",
       "    'is_career_track': False,\n",
       "    'course_group_id': 1,\n",
       "    'classroom_icon_url': 'https://files.codingninjas.in/0000000000003770.png'},\n",
       "   {'id': 19,\n",
       "    'title': 'Machine Learning',\n",
       "    'online_title': 'machine-learning-engineer-career-track',\n",
       "    'offline_title': '',\n",
       "    'name': 'Ninja Machine Learning Engineer Career Track',\n",
       "    'level': 'Career Tracks',\n",
       "    'brief_intro': 'Programming foundation + Machine Learning career track',\n",
       "    'preview_image_url': 'https://ninjasfiles.s3.amazonaws.com/0000000000001181.png',\n",
       "    'available_online': True,\n",
       "    'available_offline': False,\n",
       "    'is_career_track': True,\n",
       "    'course_group_id': 3,\n",
       "    'classroom_icon_url': 'https://files.codingninjas.in/0000000000003776.png'}],\n",
       "  'course_groups': [{'id': 1,\n",
       "    'name': 'Foundation, Algorithmic & Advanced',\n",
       "    'order': 1,\n",
       "    'course_ids': [1, 73, 2, 4, 66, 10, 11, 21],\n",
       "    'json_data': {'color': '#FFEBC2',\n",
       "     'image_link': 'https://ninjasfiles.s3.amazonaws.com/0000000000003821.png',\n",
       "     'text_color': '#AC933C',\n",
       "     'short_description': 'Foundation courses are designed such that\\xa0<strong>no prerequisites are required.</strong>\\xa0Data Structures(DS) and Algorithms(algo.) parts build on the basics to give you a\\xa0<strong>solid programming foundation</strong>.\\xa0Competitive is where you start to\\xa0<strong>push the boundaries!</strong>',\n",
       "     'mobile_short_description': 'Foundation courses are designed such that\\xa0<span>no prerequisites are required.</span>'},\n",
       "    'is_independent': False},\n",
       "   {'id': 2,\n",
       "    'name': 'Data & Development',\n",
       "    'order': 2,\n",
       "    'course_ids': [6, 34, 12, 13, 33],\n",
       "    'json_data': {'color': '#80D4B1',\n",
       "     'image_link': 'https://files.codingninjas.in/0000000000003846.svg',\n",
       "     'text_color': '#257D68',\n",
       "     'short_description': 'Data courses dwell in the state of the art algorithms and require good knowledge of programming fundamentals. Web development courses use modern JavaScript to build powerful and fast applications from the ground up.\\xa0<strong>No prior development experience needed</strong>',\n",
       "     'mobile_short_description': 'Data courses dwell in the state of the art algorithms and require good knowledge of programming fundamentals. Web development courses use modern JavaScript to build powerful and fast applications from the ground up.\\xa0<span>No prior development experience needed</span>'},\n",
       "    'is_independent': False},\n",
       "   {'id': 3,\n",
       "    'name': 'Career Track',\n",
       "    'order': 3,\n",
       "    'course_ids': [16, 35, 36, 17, 18, 19],\n",
       "    'json_data': {'color': '#C898FF',\n",
       "     'image_link': 'https://files.codingninjas.in/0000000000003845.svg',\n",
       "     'text_color': '#603CAC',\n",
       "     'short_description': 'These are courses that take you from\\xa0<strong>zero to hero</strong>. Each track is designed specifically to cater to a particular goal you can choose and\\xa0<strong>covers everything you need to learn and assumes no prior knowledge.</strong>',\n",
       "     'mobile_short_description': 'Each track is designed specifically to cater to a particular goal you can choose and\\xa0<span>covers everything you need to learn and assumes no prior knowledge.</span>'},\n",
       "    'is_independent': True},\n",
       "   {'id': 7,\n",
       "    'name': 'Premium Course',\n",
       "    'order': None,\n",
       "    'course_ids': [40, 45, 44, 43, 41, 42],\n",
       "    'json_data': None,\n",
       "    'is_independent': True}]},\n",
       " 'message': 'Courses',\n",
       " 'status': 200,\n",
       " 'error': None,\n",
       " 'disabled': False,\n",
       " 'update': False,\n",
       " 'external_rating': None}"
      ]
     },
     "execution_count": 11,
     "metadata": {},
     "output_type": "execute_result"
    }
   ],
   "source": [
    "jsonConverted"
   ]
  },
  {
   "cell_type": "code",
   "execution_count": 12,
   "id": "e79394b3",
   "metadata": {},
   "outputs": [
    {
     "data": {
      "text/plain": [
       "dict"
      ]
     },
     "execution_count": 12,
     "metadata": {},
     "output_type": "execute_result"
    }
   ],
   "source": [
    "type(jsonConverted)"
   ]
  },
  {
   "cell_type": "code",
   "execution_count": 13,
   "id": "422468be",
   "metadata": {},
   "outputs": [
    {
     "data": {
      "text/plain": [
       "list"
      ]
     },
     "execution_count": 13,
     "metadata": {},
     "output_type": "execute_result"
    }
   ],
   "source": [
    "type(jsonConverted['data']['courses'])"
   ]
  },
  {
   "cell_type": "code",
   "execution_count": 14,
   "id": "945f398c",
   "metadata": {},
   "outputs": [
    {
     "data": {
      "text/plain": [
       "int"
      ]
     },
     "execution_count": 14,
     "metadata": {},
     "output_type": "execute_result"
    }
   ],
   "source": [
    "type(jsonConverted['data']['courses'][0]['id'])"
   ]
  },
  {
   "cell_type": "markdown",
   "id": "dbf46f48",
   "metadata": {},
   "source": [
    "# <font color = \"red\"> 3._Exploaring JSON fetched via API"
   ]
  },
  {
   "cell_type": "code",
   "execution_count": 18,
   "id": "52740c11",
   "metadata": {},
   "outputs": [],
   "source": [
    "dogs_breed_json = requests.get('https://dog.ceo/api/breeds/list/all')\n",
    "dogs_breed_pythonCon = dogs_breed_json.json()"
   ]
  },
  {
   "cell_type": "code",
   "execution_count": 19,
   "id": "be90cbf3",
   "metadata": {},
   "outputs": [
    {
     "data": {
      "text/plain": [
       "{'message': {'affenpinscher': [],\n",
       "  'african': [],\n",
       "  'airedale': [],\n",
       "  'akita': [],\n",
       "  'appenzeller': [],\n",
       "  'australian': ['shepherd'],\n",
       "  'basenji': [],\n",
       "  'beagle': [],\n",
       "  'bluetick': [],\n",
       "  'borzoi': [],\n",
       "  'bouvier': [],\n",
       "  'boxer': [],\n",
       "  'brabancon': [],\n",
       "  'briard': [],\n",
       "  'buhund': ['norwegian'],\n",
       "  'bulldog': ['boston', 'english', 'french'],\n",
       "  'bullterrier': ['staffordshire'],\n",
       "  'cattledog': ['australian'],\n",
       "  'chihuahua': [],\n",
       "  'chow': [],\n",
       "  'clumber': [],\n",
       "  'cockapoo': [],\n",
       "  'collie': ['border'],\n",
       "  'coonhound': [],\n",
       "  'corgi': ['cardigan'],\n",
       "  'cotondetulear': [],\n",
       "  'dachshund': [],\n",
       "  'dalmatian': [],\n",
       "  'dane': ['great'],\n",
       "  'deerhound': ['scottish'],\n",
       "  'dhole': [],\n",
       "  'dingo': [],\n",
       "  'doberman': [],\n",
       "  'elkhound': ['norwegian'],\n",
       "  'entlebucher': [],\n",
       "  'eskimo': [],\n",
       "  'finnish': ['lapphund'],\n",
       "  'frise': ['bichon'],\n",
       "  'germanshepherd': [],\n",
       "  'greyhound': ['italian'],\n",
       "  'groenendael': [],\n",
       "  'havanese': [],\n",
       "  'hound': ['afghan',\n",
       "   'basset',\n",
       "   'blood',\n",
       "   'english',\n",
       "   'ibizan',\n",
       "   'plott',\n",
       "   'walker'],\n",
       "  'husky': [],\n",
       "  'keeshond': [],\n",
       "  'kelpie': [],\n",
       "  'komondor': [],\n",
       "  'kuvasz': [],\n",
       "  'labradoodle': [],\n",
       "  'labrador': [],\n",
       "  'leonberg': [],\n",
       "  'lhasa': [],\n",
       "  'malamute': [],\n",
       "  'malinois': [],\n",
       "  'maltese': [],\n",
       "  'mastiff': ['bull', 'english', 'tibetan'],\n",
       "  'mexicanhairless': [],\n",
       "  'mix': [],\n",
       "  'mountain': ['bernese', 'swiss'],\n",
       "  'newfoundland': [],\n",
       "  'otterhound': [],\n",
       "  'ovcharka': ['caucasian'],\n",
       "  'papillon': [],\n",
       "  'pekinese': [],\n",
       "  'pembroke': [],\n",
       "  'pinscher': ['miniature'],\n",
       "  'pitbull': [],\n",
       "  'pointer': ['german', 'germanlonghair'],\n",
       "  'pomeranian': [],\n",
       "  'poodle': ['medium', 'miniature', 'standard', 'toy'],\n",
       "  'pug': [],\n",
       "  'puggle': [],\n",
       "  'pyrenees': [],\n",
       "  'redbone': [],\n",
       "  'retriever': ['chesapeake', 'curly', 'flatcoated', 'golden'],\n",
       "  'ridgeback': ['rhodesian'],\n",
       "  'rottweiler': [],\n",
       "  'saluki': [],\n",
       "  'samoyed': [],\n",
       "  'schipperke': [],\n",
       "  'schnauzer': ['giant', 'miniature'],\n",
       "  'setter': ['english', 'gordon', 'irish'],\n",
       "  'sharpei': [],\n",
       "  'sheepdog': ['english', 'shetland'],\n",
       "  'shiba': [],\n",
       "  'shihtzu': [],\n",
       "  'spaniel': ['blenheim',\n",
       "   'brittany',\n",
       "   'cocker',\n",
       "   'irish',\n",
       "   'japanese',\n",
       "   'sussex',\n",
       "   'welsh'],\n",
       "  'springer': ['english'],\n",
       "  'stbernard': [],\n",
       "  'terrier': ['american',\n",
       "   'australian',\n",
       "   'bedlington',\n",
       "   'border',\n",
       "   'cairn',\n",
       "   'dandie',\n",
       "   'fox',\n",
       "   'irish',\n",
       "   'kerryblue',\n",
       "   'lakeland',\n",
       "   'norfolk',\n",
       "   'norwich',\n",
       "   'patterdale',\n",
       "   'russell',\n",
       "   'scottish',\n",
       "   'sealyham',\n",
       "   'silky',\n",
       "   'tibetan',\n",
       "   'toy',\n",
       "   'welsh',\n",
       "   'westhighland',\n",
       "   'wheaten',\n",
       "   'yorkshire'],\n",
       "  'tervuren': [],\n",
       "  'vizsla': [],\n",
       "  'waterdog': ['spanish'],\n",
       "  'weimaraner': [],\n",
       "  'whippet': [],\n",
       "  'wolfhound': ['irish']},\n",
       " 'status': 'success'}"
      ]
     },
     "execution_count": 19,
     "metadata": {},
     "output_type": "execute_result"
    }
   ],
   "source": [
    "dogs_breed_pythonCon"
   ]
  },
  {
   "cell_type": "markdown",
   "id": "35baf025",
   "metadata": {},
   "source": [
    "## Printing breed and their sub breed available"
   ]
  },
  {
   "cell_type": "code",
   "execution_count": 21,
   "id": "36d1bc20",
   "metadata": {},
   "outputs": [
    {
     "name": "stdout",
     "output_type": "stream",
     "text": [
      "affenpinscher : 0\n",
      "african : 0\n",
      "airedale : 0\n",
      "akita : 0\n",
      "appenzeller : 0\n",
      "australian : 1\n",
      "basenji : 0\n",
      "beagle : 0\n",
      "bluetick : 0\n",
      "borzoi : 0\n",
      "bouvier : 0\n",
      "boxer : 0\n",
      "brabancon : 0\n",
      "briard : 0\n",
      "buhund : 1\n",
      "bulldog : 3\n",
      "bullterrier : 1\n",
      "cattledog : 1\n",
      "chihuahua : 0\n",
      "chow : 0\n",
      "clumber : 0\n",
      "cockapoo : 0\n",
      "collie : 1\n",
      "coonhound : 0\n",
      "corgi : 1\n",
      "cotondetulear : 0\n",
      "dachshund : 0\n",
      "dalmatian : 0\n",
      "dane : 1\n",
      "deerhound : 1\n",
      "dhole : 0\n",
      "dingo : 0\n",
      "doberman : 0\n",
      "elkhound : 1\n",
      "entlebucher : 0\n",
      "eskimo : 0\n",
      "finnish : 1\n",
      "frise : 1\n",
      "germanshepherd : 0\n",
      "greyhound : 1\n",
      "groenendael : 0\n",
      "havanese : 0\n",
      "hound : 7\n",
      "husky : 0\n",
      "keeshond : 0\n",
      "kelpie : 0\n",
      "komondor : 0\n",
      "kuvasz : 0\n",
      "labradoodle : 0\n",
      "labrador : 0\n",
      "leonberg : 0\n",
      "lhasa : 0\n",
      "malamute : 0\n",
      "malinois : 0\n",
      "maltese : 0\n",
      "mastiff : 3\n",
      "mexicanhairless : 0\n",
      "mix : 0\n",
      "mountain : 2\n",
      "newfoundland : 0\n",
      "otterhound : 0\n",
      "ovcharka : 1\n",
      "papillon : 0\n",
      "pekinese : 0\n",
      "pembroke : 0\n",
      "pinscher : 1\n",
      "pitbull : 0\n",
      "pointer : 2\n",
      "pomeranian : 0\n",
      "poodle : 4\n",
      "pug : 0\n",
      "puggle : 0\n",
      "pyrenees : 0\n",
      "redbone : 0\n",
      "retriever : 4\n",
      "ridgeback : 1\n",
      "rottweiler : 0\n",
      "saluki : 0\n",
      "samoyed : 0\n",
      "schipperke : 0\n",
      "schnauzer : 2\n",
      "setter : 3\n",
      "sharpei : 0\n",
      "sheepdog : 2\n",
      "shiba : 0\n",
      "shihtzu : 0\n",
      "spaniel : 7\n",
      "springer : 1\n",
      "stbernard : 0\n",
      "terrier : 23\n",
      "tervuren : 0\n",
      "vizsla : 0\n",
      "waterdog : 1\n",
      "weimaraner : 0\n",
      "whippet : 0\n",
      "wolfhound : 1\n"
     ]
    }
   ],
   "source": [
    "for key, value in dogs_breed_pythonCon['message'].items():\n",
    "    print (key , \":\" , len(value))"
   ]
  },
  {
   "cell_type": "code",
   "execution_count": 22,
   "id": "c827ad58",
   "metadata": {},
   "outputs": [
    {
     "name": "stdout",
     "output_type": "stream",
     "text": [
      "english\n",
      "shetland\n"
     ]
    }
   ],
   "source": [
    "for i in dogs_breed_pythonCon['message']['sheepdog'] :\n",
    "    print(i)"
   ]
  },
  {
   "cell_type": "markdown",
   "id": "0d678294",
   "metadata": {},
   "source": [
    "# Parameters"
   ]
  },
  {
   "cell_type": "code",
   "execution_count": 23,
   "id": "927bd979",
   "metadata": {},
   "outputs": [
    {
     "data": {
      "text/plain": [
       "<Response [200]>"
      ]
     },
     "execution_count": 23,
     "metadata": {},
     "output_type": "execute_result"
    }
   ],
   "source": [
    "cities = requests.get('https://api.openaq.org/v2/cities', params= {'country' : 'AE'})"
   ]
  },
  {
   "cell_type": "code",
   "execution_count": 29,
   "id": "b400a63b",
   "metadata": {},
   "outputs": [
    {
     "data": {
      "text/plain": [
       "{'meta': {'name': 'openaq-api',\n",
       "  'license': 'CC BY 4.0d',\n",
       "  'website': 'api.openaq.org',\n",
       "  'page': 1,\n",
       "  'limit': 100,\n",
       "  'found': 2},\n",
       " 'results': [{'country': 'AE',\n",
       "   'city': 'Abu Dhabi',\n",
       "   'count': 179041,\n",
       "   'locations': 1,\n",
       "   'firstUpdated': '2017-12-26T23:00:00+00:00',\n",
       "   'lastUpdated': '2022-07-19T02:00:00+00:00',\n",
       "   'parameters': ['o3', 'pm25']},\n",
       "  {'country': 'AE',\n",
       "   'city': 'N/A',\n",
       "   'count': 250423,\n",
       "   'locations': 2,\n",
       "   'firstUpdated': '2018-07-27T15:00:00+00:00',\n",
       "   'lastUpdated': '2022-07-19T02:00:00+00:00',\n",
       "   'parameters': ['o3', 'pm25']}]}"
      ]
     },
     "execution_count": 29,
     "metadata": {},
     "output_type": "execute_result"
    }
   ],
   "source": [
    "cities"
   ]
  },
  {
   "cell_type": "code",
   "execution_count": null,
   "id": "3c0afe80",
   "metadata": {},
   "outputs": [],
   "source": []
  }
 ],
 "metadata": {
  "kernelspec": {
   "display_name": "Python 3 (ipykernel)",
   "language": "python",
   "name": "python3"
  },
  "language_info": {
   "codemirror_mode": {
    "name": "ipython",
    "version": 3
   },
   "file_extension": ".py",
   "mimetype": "text/x-python",
   "name": "python",
   "nbconvert_exporter": "python",
   "pygments_lexer": "ipython3",
   "version": "3.10.5"
  }
 },
 "nbformat": 4,
 "nbformat_minor": 5
}
